{
 "cells": [
  {
   "attachments": {},
   "cell_type": "markdown",
   "metadata": {},
   "source": [
    "## Programa 01\n",
    "\n",
    "Nesta aula iremos criar um algoritmo em python que pegue os dados de uma API e insira em uma tabela do postgres criado no primeiro passo"
   ]
  },
  {
   "attachments": {},
   "cell_type": "markdown",
   "metadata": {},
   "source": [
    "## Importar as libs da aula"
   ]
  },
  {
   "cell_type": "code",
   "execution_count": 44,
   "metadata": {},
   "outputs": [],
   "source": [
    "import pandas as pd\n",
    "import requests\n",
    "import io\n",
    "from sqlalchemy import create_engine"
   ]
  },
  {
   "attachments": {},
   "cell_type": "markdown",
   "metadata": {},
   "source": [
    "## Requisição API"
   ]
  },
  {
   "cell_type": "code",
   "execution_count": 45,
   "metadata": {},
   "outputs": [
    {
     "data": {
      "text/plain": [
       "\"\\nGeralmente e necessario algum nivel de autenticacao do usuario para conseguir os dados de um endpoint(url).\\nCom uma chave de acesso ou token ou outra forma d autenticacao, o metodo get() ou post() do metodo requests, \\ndeve receber nas variaveis headers.\\n\\nheaders = {'Authorization': 'Bearer <YOUR_TOKEN>'}\\nresponse = requests.get(url_req,headers=headers)\\n\""
      ]
     },
     "execution_count": 45,
     "metadata": {},
     "output_type": "execute_result"
    }
   ],
   "source": [
    "url = 'https://www.harve.com.br/praticas/titanic-pt-BR.csv'\n",
    "response = requests.get(url)\n",
    "\n",
    "'''\n",
    "Geralmente e necessario algum nivel de autenticacao do usuario para conseguir os dados de um endpoint(url).\n",
    "Com uma chave de acesso ou token ou outra forma d autenticacao, o metodo get() ou post() do metodo requests, \n",
    "deve receber nas variaveis headers.\n",
    "\n",
    "headers = {'Authorization': 'Bearer <YOUR_TOKEN>'}\n",
    "response = requests.get(url_req,headers=headers)\n",
    "'''"
   ]
  },
  {
   "attachments": {},
   "cell_type": "markdown",
   "metadata": {},
   "source": [
    "## Transformando Resposta da API em Dataframe"
   ]
  },
  {
   "cell_type": "code",
   "execution_count": 46,
   "metadata": {},
   "outputs": [],
   "source": [
    "'''\n",
    "Utilizamos a funcao io.StringIO pois o primeiro parametro do metodo pd.read_csv pode ser o caminho para o arquivo ou\n",
    "os dados em si. Mas se e passado uma string para o primeiro paramentro de read_csv, ele vai entender que vc esta passando\n",
    "o caminho para o arquivo e dara problema pois ele nao encontrara este arquivo.\n",
    "\n",
    "Com isso a funcao io.StringIO transformara os dados em um objeto para que o pandas entenda que estara mexendo com\n",
    "os dados em si e nao com o caminho do arquivo.\n",
    "'''\n",
    "buffer = io.StringIO(response.text)\n",
    "df = pd.read_csv(buffer)"
   ]
  },
  {
   "attachments": {},
   "cell_type": "markdown",
   "metadata": {},
   "source": [
    "## Criando a tabela no banco de dados\n",
    "Para criar uma tabela no banco de dados precisaremos saber exatamente como serao as colunas e onde isto sera inserido. No caso utilizaremos o banco Harve no schema public e a tabela tera o nome titanic"
   ]
  },
  {
   "cell_type": "code",
   "execution_count": 47,
   "metadata": {},
   "outputs": [
    {
     "name": "stdout",
     "output_type": "stream",
     "text": [
      "['Id_do_passageiro', 'Sobrevivente', 'Classe', 'Nome', 'Sexo', 'Idade', 'Irmaos_ou_conjuge', 'Pais_ou_filhos', 'Ticket', 'Tarifa_do_passageiro', 'Cabine', 'Local_de_embarque']\n"
     ]
    }
   ],
   "source": [
    "''' \n",
    "Esta celula de codigo pegara cada coluna do csv, mudara cada espaco por underline e tirara qualquer \n",
    "espaco antes ou depois da coluna. Por exemplo:\n",
    "Antes: Id do passageiro\n",
    "Depois: Id_do_passageiro\n",
    "'''\n",
    "colunas = [coluna.strip().replace(' ','_') for coluna in df.columns]\n",
    "print(colunas)\n",
    "\n",
    "# TODO: Como voce poderia alterar o nome de cada coluna no dataframe? \n",
    "# renameColumns = {column:column.strip().replace(' ','_') for column in df.columns}\n",
    "# df.rename(columns=renameColumns,inplace=True)"
   ]
  },
  {
   "attachments": {},
   "cell_type": "markdown",
   "metadata": {},
   "source": [
    "## Criando tabela no DW\n",
    "Para criar a tabela no banco de dados podemos usar o comando abaixo, colando-o diretamento no Dbeaver ou outro DBMS.\n",
    "\n",
    "SQL:\n",
    "\n",
    "create table public.titanic (\n",
    "Id_do_passageiro text,\n",
    "Sobrevivente text,\n",
    "Classe text,\n",
    "Nome text,\n",
    "Sexo text,\n",
    "Idade text,\n",
    "Irmaos_ou_conjuge text,\n",
    "Pais_ou_filhos text,\n",
    "Ticket text,\n",
    "Tarifa_do_passageiro text,\n",
    "Cabine text,\n",
    "Local_de_embarque text\n",
    ")"
   ]
  },
  {
   "attachments": {},
   "cell_type": "markdown",
   "metadata": {},
   "source": [
    "## Credenciais e Conexao com o banco"
   ]
  },
  {
   "cell_type": "code",
   "execution_count": 48,
   "metadata": {},
   "outputs": [],
   "source": [
    "def connect_database(db, user, host, port, passwd):\n",
    "    \"\"\"\n",
    "    Get SQLalchemy engine using credentials.\n",
    "    Input:\n",
    "    db: database name\n",
    "    user: Username\n",
    "    host: Hostname of the database server\n",
    "    port: Port number\n",
    "    passwd: Password for the database\n",
    "    \"\"\"\n",
    "\n",
    "    url = f'postgresql://{user}:{passwd}@{host}:{port}/{db}'\n",
    "    engine = create_engine(url)\n",
    "    con = engine.connect()\n",
    "    return engine, con"
   ]
  },
  {
   "cell_type": "code",
   "execution_count": 49,
   "metadata": {},
   "outputs": [],
   "source": [
    "engine, con = connect_database(\n",
    "                                db='harve',\n",
    "                                user='<usuario>',\n",
    "                                passwd='<senha>',\n",
    "                                port='5432'\n",
    "                            )"
   ]
  },
  {
   "attachments": {},
   "cell_type": "markdown",
   "metadata": {},
   "source": [
    "## Inserindo os dados no Banco"
   ]
  },
  {
   "cell_type": "code",
   "execution_count": 50,
   "metadata": {},
   "outputs": [],
   "source": [
    "con.execute('''truncate table public.titanic''')\n",
    "df.to_sql( \n",
    "    name='titanic',\n",
    "    con=engine,\n",
    "    schema='public',\n",
    "    if_exists='append',\n",
    "    index=False\n",
    ")"
   ]
  }
 ],
 "metadata": {
  "kernelspec": {
   "display_name": "Python 3",
   "language": "python",
   "name": "python3"
  },
  "language_info": {
   "codemirror_mode": {
    "name": "ipython",
    "version": 3
   },
   "file_extension": ".py",
   "mimetype": "text/x-python",
   "name": "python",
   "nbconvert_exporter": "python",
   "pygments_lexer": "ipython3",
   "version": "3.10.2"
  },
  "orig_nbformat": 4,
  "vscode": {
   "interpreter": {
    "hash": "e144bd872dea5808a82fc670aebf110fde980edf8678f9bda6d8daf26b6560b1"
   }
  }
 },
 "nbformat": 4,
 "nbformat_minor": 2
}
